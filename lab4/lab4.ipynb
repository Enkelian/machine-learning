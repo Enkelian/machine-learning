{
 "cells": [
  {
   "cell_type": "code",
   "execution_count": 229,
   "metadata": {
    "pycharm": {
     "name": "#%%\n"
    }
   },
   "outputs": [],
   "source": [
    "import numpy as np\n",
    "import matplotlib.pyplot as plt\n",
    "import matplotlib.patches as mpatches\n",
    "import pandas as pd\n",
    "import seaborn as sb\n",
    "from sklearn.cluster import KMeans\n",
    "from sklearn.metrics import davies_bouldin_score\n",
    "from sklearn.preprocessing import StandardScaler, MinMaxScaler, RobustScaler\n",
    "from sklearn.decomposition import PCA\n",
    "import random\n",
    "import re"
   ]
  },
  {
   "cell_type": "code",
   "execution_count": 230,
   "metadata": {
    "pycharm": {
     "name": "#%%\n"
    }
   },
   "outputs": [],
   "source": [
    "data = pd.read_csv('menu.csv')"
   ]
  },
  {
   "cell_type": "code",
   "execution_count": 231,
   "metadata": {
    "pycharm": {
     "name": "#%%\n"
    }
   },
   "outputs": [
    {
     "name": "stdout",
     "output_type": "stream",
     "text": [
      "0       4.8 oz (136 g)\n",
      "1       4.8 oz (135 g)\n",
      "2       3.9 oz (111 g)\n",
      "3       5.7 oz (161 g)\n",
      "4       5.7 oz (161 g)\n",
      "            ...       \n",
      "255    10.1 oz (285 g)\n",
      "256    13.4 oz (381 g)\n",
      "257     6.7 oz (190 g)\n",
      "258    14.2 oz (403 g)\n",
      "259     7.1 oz (202 g)\n",
      "Name: Serving Size, Length: 260, dtype: object\n"
     ]
    }
   ],
   "source": [
    "print(data['Serving Size'])"
   ]
  },
  {
   "cell_type": "markdown",
   "metadata": {
    "pycharm": {
     "name": "#%% md\n"
    }
   },
   "source": [
    "Nie powinny wchodzić w skład wektora cech:\n",
    "* category (z nimi będziemy porównywać)\n",
    "* item (nazwy nie da się interpretować)\n",
    "* serving size (różne jednostki - gramatura, objętość)"
   ]
  },
  {
   "cell_type": "code",
   "execution_count": 232,
   "metadata": {
    "pycharm": {
     "name": "#%%\n"
    }
   },
   "outputs": [
    {
     "data": {
      "text/html": [
       "<div>\n",
       "<style scoped>\n",
       "    .dataframe tbody tr th:only-of-type {\n",
       "        vertical-align: middle;\n",
       "    }\n",
       "\n",
       "    .dataframe tbody tr th {\n",
       "        vertical-align: top;\n",
       "    }\n",
       "\n",
       "    .dataframe thead th {\n",
       "        text-align: right;\n",
       "    }\n",
       "</style>\n",
       "<table border=\"1\" class=\"dataframe\">\n",
       "  <thead>\n",
       "    <tr style=\"text-align: right;\">\n",
       "      <th></th>\n",
       "      <th>Calories</th>\n",
       "      <th>Calories from Fat</th>\n",
       "      <th>Total Fat</th>\n",
       "      <th>Total Fat (% Daily Value)</th>\n",
       "      <th>Saturated Fat</th>\n",
       "      <th>Saturated Fat (% Daily Value)</th>\n",
       "      <th>Trans Fat</th>\n",
       "      <th>Cholesterol</th>\n",
       "      <th>Cholesterol (% Daily Value)</th>\n",
       "      <th>Sodium</th>\n",
       "      <th>...</th>\n",
       "      <th>Carbohydrates</th>\n",
       "      <th>Carbohydrates (% Daily Value)</th>\n",
       "      <th>Dietary Fiber</th>\n",
       "      <th>Dietary Fiber (% Daily Value)</th>\n",
       "      <th>Sugars</th>\n",
       "      <th>Protein</th>\n",
       "      <th>Vitamin A (% Daily Value)</th>\n",
       "      <th>Vitamin C (% Daily Value)</th>\n",
       "      <th>Calcium (% Daily Value)</th>\n",
       "      <th>Iron (% Daily Value)</th>\n",
       "    </tr>\n",
       "  </thead>\n",
       "  <tbody>\n",
       "    <tr>\n",
       "      <th>count</th>\n",
       "      <td>260.000000</td>\n",
       "      <td>260.000000</td>\n",
       "      <td>260.000000</td>\n",
       "      <td>260.000000</td>\n",
       "      <td>260.000000</td>\n",
       "      <td>260.000000</td>\n",
       "      <td>260.000000</td>\n",
       "      <td>260.000000</td>\n",
       "      <td>260.000000</td>\n",
       "      <td>260.000000</td>\n",
       "      <td>...</td>\n",
       "      <td>260.000000</td>\n",
       "      <td>260.000000</td>\n",
       "      <td>260.000000</td>\n",
       "      <td>260.000000</td>\n",
       "      <td>260.000000</td>\n",
       "      <td>260.000000</td>\n",
       "      <td>260.000000</td>\n",
       "      <td>260.000000</td>\n",
       "      <td>260.000000</td>\n",
       "      <td>260.000000</td>\n",
       "    </tr>\n",
       "    <tr>\n",
       "      <th>mean</th>\n",
       "      <td>368.269231</td>\n",
       "      <td>127.096154</td>\n",
       "      <td>14.165385</td>\n",
       "      <td>21.815385</td>\n",
       "      <td>6.007692</td>\n",
       "      <td>29.965385</td>\n",
       "      <td>0.203846</td>\n",
       "      <td>54.942308</td>\n",
       "      <td>18.392308</td>\n",
       "      <td>495.750000</td>\n",
       "      <td>...</td>\n",
       "      <td>47.346154</td>\n",
       "      <td>15.780769</td>\n",
       "      <td>1.630769</td>\n",
       "      <td>6.530769</td>\n",
       "      <td>29.423077</td>\n",
       "      <td>13.338462</td>\n",
       "      <td>13.426923</td>\n",
       "      <td>8.534615</td>\n",
       "      <td>20.973077</td>\n",
       "      <td>7.734615</td>\n",
       "    </tr>\n",
       "    <tr>\n",
       "      <th>std</th>\n",
       "      <td>240.269886</td>\n",
       "      <td>127.875914</td>\n",
       "      <td>14.205998</td>\n",
       "      <td>21.885199</td>\n",
       "      <td>5.321873</td>\n",
       "      <td>26.639209</td>\n",
       "      <td>0.429133</td>\n",
       "      <td>87.269257</td>\n",
       "      <td>29.091653</td>\n",
       "      <td>577.026323</td>\n",
       "      <td>...</td>\n",
       "      <td>28.252232</td>\n",
       "      <td>9.419544</td>\n",
       "      <td>1.567717</td>\n",
       "      <td>6.307057</td>\n",
       "      <td>28.679797</td>\n",
       "      <td>11.426146</td>\n",
       "      <td>24.366381</td>\n",
       "      <td>26.345542</td>\n",
       "      <td>17.019953</td>\n",
       "      <td>8.723263</td>\n",
       "    </tr>\n",
       "    <tr>\n",
       "      <th>min</th>\n",
       "      <td>0.000000</td>\n",
       "      <td>0.000000</td>\n",
       "      <td>0.000000</td>\n",
       "      <td>0.000000</td>\n",
       "      <td>0.000000</td>\n",
       "      <td>0.000000</td>\n",
       "      <td>0.000000</td>\n",
       "      <td>0.000000</td>\n",
       "      <td>0.000000</td>\n",
       "      <td>0.000000</td>\n",
       "      <td>...</td>\n",
       "      <td>0.000000</td>\n",
       "      <td>0.000000</td>\n",
       "      <td>0.000000</td>\n",
       "      <td>0.000000</td>\n",
       "      <td>0.000000</td>\n",
       "      <td>0.000000</td>\n",
       "      <td>0.000000</td>\n",
       "      <td>0.000000</td>\n",
       "      <td>0.000000</td>\n",
       "      <td>0.000000</td>\n",
       "    </tr>\n",
       "    <tr>\n",
       "      <th>25%</th>\n",
       "      <td>210.000000</td>\n",
       "      <td>20.000000</td>\n",
       "      <td>2.375000</td>\n",
       "      <td>3.750000</td>\n",
       "      <td>1.000000</td>\n",
       "      <td>4.750000</td>\n",
       "      <td>0.000000</td>\n",
       "      <td>5.000000</td>\n",
       "      <td>2.000000</td>\n",
       "      <td>107.500000</td>\n",
       "      <td>...</td>\n",
       "      <td>30.000000</td>\n",
       "      <td>10.000000</td>\n",
       "      <td>0.000000</td>\n",
       "      <td>0.000000</td>\n",
       "      <td>5.750000</td>\n",
       "      <td>4.000000</td>\n",
       "      <td>2.000000</td>\n",
       "      <td>0.000000</td>\n",
       "      <td>6.000000</td>\n",
       "      <td>0.000000</td>\n",
       "    </tr>\n",
       "    <tr>\n",
       "      <th>50%</th>\n",
       "      <td>340.000000</td>\n",
       "      <td>100.000000</td>\n",
       "      <td>11.000000</td>\n",
       "      <td>17.000000</td>\n",
       "      <td>5.000000</td>\n",
       "      <td>24.000000</td>\n",
       "      <td>0.000000</td>\n",
       "      <td>35.000000</td>\n",
       "      <td>11.000000</td>\n",
       "      <td>190.000000</td>\n",
       "      <td>...</td>\n",
       "      <td>44.000000</td>\n",
       "      <td>15.000000</td>\n",
       "      <td>1.000000</td>\n",
       "      <td>5.000000</td>\n",
       "      <td>17.500000</td>\n",
       "      <td>12.000000</td>\n",
       "      <td>8.000000</td>\n",
       "      <td>0.000000</td>\n",
       "      <td>20.000000</td>\n",
       "      <td>4.000000</td>\n",
       "    </tr>\n",
       "    <tr>\n",
       "      <th>75%</th>\n",
       "      <td>500.000000</td>\n",
       "      <td>200.000000</td>\n",
       "      <td>22.250000</td>\n",
       "      <td>35.000000</td>\n",
       "      <td>10.000000</td>\n",
       "      <td>48.000000</td>\n",
       "      <td>0.000000</td>\n",
       "      <td>65.000000</td>\n",
       "      <td>21.250000</td>\n",
       "      <td>865.000000</td>\n",
       "      <td>...</td>\n",
       "      <td>60.000000</td>\n",
       "      <td>20.000000</td>\n",
       "      <td>3.000000</td>\n",
       "      <td>10.000000</td>\n",
       "      <td>48.000000</td>\n",
       "      <td>19.000000</td>\n",
       "      <td>15.000000</td>\n",
       "      <td>4.000000</td>\n",
       "      <td>30.000000</td>\n",
       "      <td>15.000000</td>\n",
       "    </tr>\n",
       "    <tr>\n",
       "      <th>max</th>\n",
       "      <td>1880.000000</td>\n",
       "      <td>1060.000000</td>\n",
       "      <td>118.000000</td>\n",
       "      <td>182.000000</td>\n",
       "      <td>20.000000</td>\n",
       "      <td>102.000000</td>\n",
       "      <td>2.500000</td>\n",
       "      <td>575.000000</td>\n",
       "      <td>192.000000</td>\n",
       "      <td>3600.000000</td>\n",
       "      <td>...</td>\n",
       "      <td>141.000000</td>\n",
       "      <td>47.000000</td>\n",
       "      <td>7.000000</td>\n",
       "      <td>28.000000</td>\n",
       "      <td>128.000000</td>\n",
       "      <td>87.000000</td>\n",
       "      <td>170.000000</td>\n",
       "      <td>240.000000</td>\n",
       "      <td>70.000000</td>\n",
       "      <td>40.000000</td>\n",
       "    </tr>\n",
       "  </tbody>\n",
       "</table>\n",
       "<p>8 rows × 21 columns</p>\n",
       "</div>"
      ],
      "text/plain": [
       "          Calories  Calories from Fat   Total Fat  Total Fat (% Daily Value)  \\\n",
       "count   260.000000         260.000000  260.000000                 260.000000   \n",
       "mean    368.269231         127.096154   14.165385                  21.815385   \n",
       "std     240.269886         127.875914   14.205998                  21.885199   \n",
       "min       0.000000           0.000000    0.000000                   0.000000   \n",
       "25%     210.000000          20.000000    2.375000                   3.750000   \n",
       "50%     340.000000         100.000000   11.000000                  17.000000   \n",
       "75%     500.000000         200.000000   22.250000                  35.000000   \n",
       "max    1880.000000        1060.000000  118.000000                 182.000000   \n",
       "\n",
       "       Saturated Fat  Saturated Fat (% Daily Value)   Trans Fat  Cholesterol  \\\n",
       "count     260.000000                     260.000000  260.000000   260.000000   \n",
       "mean        6.007692                      29.965385    0.203846    54.942308   \n",
       "std         5.321873                      26.639209    0.429133    87.269257   \n",
       "min         0.000000                       0.000000    0.000000     0.000000   \n",
       "25%         1.000000                       4.750000    0.000000     5.000000   \n",
       "50%         5.000000                      24.000000    0.000000    35.000000   \n",
       "75%        10.000000                      48.000000    0.000000    65.000000   \n",
       "max        20.000000                     102.000000    2.500000   575.000000   \n",
       "\n",
       "       Cholesterol (% Daily Value)       Sodium  ...  Carbohydrates  \\\n",
       "count                   260.000000   260.000000  ...     260.000000   \n",
       "mean                     18.392308   495.750000  ...      47.346154   \n",
       "std                      29.091653   577.026323  ...      28.252232   \n",
       "min                       0.000000     0.000000  ...       0.000000   \n",
       "25%                       2.000000   107.500000  ...      30.000000   \n",
       "50%                      11.000000   190.000000  ...      44.000000   \n",
       "75%                      21.250000   865.000000  ...      60.000000   \n",
       "max                     192.000000  3600.000000  ...     141.000000   \n",
       "\n",
       "       Carbohydrates (% Daily Value)  Dietary Fiber  \\\n",
       "count                     260.000000     260.000000   \n",
       "mean                       15.780769       1.630769   \n",
       "std                         9.419544       1.567717   \n",
       "min                         0.000000       0.000000   \n",
       "25%                        10.000000       0.000000   \n",
       "50%                        15.000000       1.000000   \n",
       "75%                        20.000000       3.000000   \n",
       "max                        47.000000       7.000000   \n",
       "\n",
       "       Dietary Fiber (% Daily Value)      Sugars     Protein  \\\n",
       "count                     260.000000  260.000000  260.000000   \n",
       "mean                        6.530769   29.423077   13.338462   \n",
       "std                         6.307057   28.679797   11.426146   \n",
       "min                         0.000000    0.000000    0.000000   \n",
       "25%                         0.000000    5.750000    4.000000   \n",
       "50%                         5.000000   17.500000   12.000000   \n",
       "75%                        10.000000   48.000000   19.000000   \n",
       "max                        28.000000  128.000000   87.000000   \n",
       "\n",
       "       Vitamin A (% Daily Value)  Vitamin C (% Daily Value)  \\\n",
       "count                 260.000000                 260.000000   \n",
       "mean                   13.426923                   8.534615   \n",
       "std                    24.366381                  26.345542   \n",
       "min                     0.000000                   0.000000   \n",
       "25%                     2.000000                   0.000000   \n",
       "50%                     8.000000                   0.000000   \n",
       "75%                    15.000000                   4.000000   \n",
       "max                   170.000000                 240.000000   \n",
       "\n",
       "       Calcium (% Daily Value)  Iron (% Daily Value)  \n",
       "count               260.000000            260.000000  \n",
       "mean                 20.973077              7.734615  \n",
       "std                  17.019953              8.723263  \n",
       "min                   0.000000              0.000000  \n",
       "25%                   6.000000              0.000000  \n",
       "50%                  20.000000              4.000000  \n",
       "75%                  30.000000             15.000000  \n",
       "max                  70.000000             40.000000  \n",
       "\n",
       "[8 rows x 21 columns]"
      ]
     },
     "execution_count": 232,
     "metadata": {},
     "output_type": "execute_result"
    }
   ],
   "source": [
    "data.describe()"
   ]
  },
  {
   "cell_type": "code",
   "execution_count": 233,
   "metadata": {
    "pycharm": {
     "name": "#%%\n"
    }
   },
   "outputs": [
    {
     "data": {
      "text/plain": [
       "count              260\n",
       "unique             107\n",
       "top       16 fl oz cup\n",
       "freq                45\n",
       "Name: Serving Size, dtype: object"
      ]
     },
     "execution_count": 233,
     "metadata": {},
     "output_type": "execute_result"
    }
   ],
   "source": [
    "data['Serving Size'].describe()"
   ]
  },
  {
   "cell_type": "code",
   "execution_count": 234,
   "metadata": {
    "pycharm": {
     "name": "#%%\n"
    }
   },
   "outputs": [],
   "source": [
    "data = data.drop(columns=['Category', 'Item', 'Serving Size'])"
   ]
  },
  {
   "cell_type": "code",
   "execution_count": 235,
   "metadata": {
    "pycharm": {
     "name": "#%%\n"
    }
   },
   "outputs": [],
   "source": [
    "data_np = data.to_numpy()"
   ]
  },
  {
   "cell_type": "code",
   "execution_count": 236,
   "metadata": {
    "pycharm": {
     "name": "#%%\n"
    }
   },
   "outputs": [
    {
     "name": "stdout",
     "output_type": "stream",
     "text": [
      "[[300. 120.  13. ...   0.  25.  15.]\n",
      " [250.  70.   8. ...   0.  25.   8.]\n",
      " [370. 200.  23. ...   0.  25.  10.]\n",
      " ...\n",
      " [340. 100.  11. ...   0.  25.   6.]\n",
      " [810. 290.  32. ...   0.  60.   6.]\n",
      " [410. 150.  16. ...   0.  30.   4.]]\n"
     ]
    }
   ],
   "source": [
    "print(data_np)"
   ]
  },
  {
   "cell_type": "code",
   "execution_count": 237,
   "metadata": {
    "pycharm": {
     "name": "#%%\n"
    }
   },
   "outputs": [
    {
     "data": {
      "image/png": "[encoded data removed]",
      "text/plain": [
       "<Figure size 432x288 with 2 Axes>"
      ]
     },
     "metadata": {
      "needs_background": "light"
     },
     "output_type": "display_data"
    }
   ],
   "source": [
    "corr = np.corrcoef(data_np, rowvar=False)\n",
    "corr_map = sb.heatmap(corr).figure.savefig('corr_map')"
   ]
  },
  {
   "cell_type": "code",
   "execution_count": null,
   "metadata": {
    "pycharm": {
     "name": "#%%\n"
    }
   },
   "outputs": [],
   "source": []
  },
  {
   "cell_type": "markdown",
   "metadata": {
    "pycharm": {
     "name": "#%% md\n"
    }
   },
   "source": [
    "Wycentrowanie nie jest konieczne, jednak ułatwi skalowanie."
   ]
  },
  {
   "cell_type": "code",
   "execution_count": 238,
   "metadata": {
    "pycharm": {
     "name": "#%%\n"
    }
   },
   "outputs": [
    {
     "data": {
      "text/plain": [
       "count     260.000000\n",
       "mean      368.269231\n",
       "std       240.269886\n",
       "min         0.000000\n",
       "25%       210.000000\n",
       "50%       340.000000\n",
       "75%       500.000000\n",
       "max      1880.000000\n",
       "Name: Calories, dtype: float64"
      ]
     },
     "execution_count": 238,
     "metadata": {},
     "output_type": "execute_result"
    }
   ],
   "source": [
    "data['Calories'].describe()"
   ]
  },
  {
   "cell_type": "code",
   "execution_count": 239,
   "metadata": {
    "pycharm": {
     "name": "#%%\n"
    }
   },
   "outputs": [
    {
     "data": {
      "text/plain": [
       "count    260.000000\n",
       "mean      29.423077\n",
       "std       28.679797\n",
       "min        0.000000\n",
       "25%        5.750000\n",
       "50%       17.500000\n",
       "75%       48.000000\n",
       "max      128.000000\n",
       "Name: Sugars, dtype: float64"
      ]
     },
     "execution_count": 239,
     "metadata": {},
     "output_type": "execute_result"
    }
   ],
   "source": [
    "data['Sugars'].describe()"
   ]
  },
  {
   "cell_type": "code",
   "execution_count": 240,
   "metadata": {
    "pycharm": {
     "name": "#%%\n"
    }
   },
   "outputs": [
    {
     "data": {
      "text/plain": [
       "count    260.000000\n",
       "mean      13.338462\n",
       "std       11.426146\n",
       "min        0.000000\n",
       "25%        4.000000\n",
       "50%       12.000000\n",
       "75%       19.000000\n",
       "max       87.000000\n",
       "Name: Protein, dtype: float64"
      ]
     },
     "execution_count": 240,
     "metadata": {},
     "output_type": "execute_result"
    }
   ],
   "source": [
    "data['Protein'].describe()"
   ]
  },
  {
   "cell_type": "code",
   "execution_count": 241,
   "metadata": {
    "pycharm": {
     "name": "#%%\n"
    }
   },
   "outputs": [
    {
     "data": {
      "text/plain": [
       "count    260.000000\n",
       "mean       0.203846\n",
       "std        0.429133\n",
       "min        0.000000\n",
       "25%        0.000000\n",
       "50%        0.000000\n",
       "75%        0.000000\n",
       "max        2.500000\n",
       "Name: Trans Fat, dtype: float64"
      ]
     },
     "execution_count": 241,
     "metadata": {},
     "output_type": "execute_result"
    }
   ],
   "source": [
    "data['Trans Fat'].describe()"
   ]
  },
  {
   "cell_type": "code",
   "execution_count": 242,
   "metadata": {
    "pycharm": {
     "name": "#%%\n"
    }
   },
   "outputs": [
    {
     "name": "stdout",
     "output_type": "stream",
     "text": [
      "21\n"
     ]
    }
   ],
   "source": [
    "print(data.shape[1])\n"
   ]
  },
  {
   "cell_type": "code",
   "execution_count": 243,
   "metadata": {
    "pycharm": {
     "name": "#%%\n"
    }
   },
   "outputs": [],
   "source": [
    "data_reduced = data.drop(columns=['Total Fat', 'Saturated Fat', 'Cholesterol', 'Sodium', 'Carbohydrates', 'Dietary Fiber'])\n",
    "# data_reduced = data.drop(columns=['Total Fat (% Daily Value)', 'Saturated Fat (% Daily Value)', 'Cholesterol (% Daily Value)', 'Sodium (% Daily Value)', 'Carbohydrates (% Daily Value)', 'Dietary Fiber (% Daily Value)'])"
   ]
  },
  {
   "cell_type": "code",
   "execution_count": 244,
   "metadata": {
    "pycharm": {
     "name": "#%%\n"
    }
   },
   "outputs": [],
   "source": [
    "data_reduced_np = data_reduced.to_numpy()"
   ]
  },
  {
   "cell_type": "code",
   "execution_count": 245,
   "metadata": {
    "pycharm": {
     "name": "#%%\n"
    }
   },
   "outputs": [
    {
     "data": {
      "text/plain": [
       "<AxesSubplot:>"
      ]
     },
     "execution_count": 245,
     "metadata": {},
     "output_type": "execute_result"
    },
    {
     "data": {
      "image/png": "[encoded data removed]",
      "text/plain": [
       "<Figure size 432x288 with 2 Axes>"
      ]
     },
     "metadata": {
      "needs_background": "light"
     },
     "output_type": "display_data"
    }
   ],
   "source": [
    "sb.heatmap(np.corrcoef(data_reduced_np, rowvar=False))"
   ]
  },
  {
   "cell_type": "code",
   "execution_count": 246,
   "metadata": {
    "pycharm": {
     "name": "#%%\n"
    }
   },
   "outputs": [
    {
     "data": {
      "text/html": [
       "<div>\n",
       "<style scoped>\n",
       "    .dataframe tbody tr th:only-of-type {\n",
       "        vertical-align: middle;\n",
       "    }\n",
       "\n",
       "    .dataframe tbody tr th {\n",
       "        vertical-align: top;\n",
       "    }\n",
       "\n",
       "    .dataframe thead th {\n",
       "        text-align: right;\n",
       "    }\n",
       "</style>\n",
       "<table border=\"1\" class=\"dataframe\">\n",
       "  <thead>\n",
       "    <tr style=\"text-align: right;\">\n",
       "      <th></th>\n",
       "      <th>Calories</th>\n",
       "      <th>Total Fat (% Daily Value)</th>\n",
       "      <th>Saturated Fat (% Daily Value)</th>\n",
       "      <th>Trans Fat</th>\n",
       "      <th>Cholesterol (% Daily Value)</th>\n",
       "      <th>Sodium (% Daily Value)</th>\n",
       "      <th>Carbohydrates (% Daily Value)</th>\n",
       "      <th>Dietary Fiber (% Daily Value)</th>\n",
       "      <th>Sugars</th>\n",
       "      <th>Protein</th>\n",
       "      <th>Vitamin A (% Daily Value)</th>\n",
       "      <th>Vitamin C (% Daily Value)</th>\n",
       "      <th>Calcium (% Daily Value)</th>\n",
       "      <th>Iron (% Daily Value)</th>\n",
       "    </tr>\n",
       "  </thead>\n",
       "  <tbody>\n",
       "    <tr>\n",
       "      <th>count</th>\n",
       "      <td>260.00</td>\n",
       "      <td>260.00</td>\n",
       "      <td>260.00</td>\n",
       "      <td>260.00</td>\n",
       "      <td>260.00</td>\n",
       "      <td>260.00</td>\n",
       "      <td>260.00</td>\n",
       "      <td>260.00</td>\n",
       "      <td>260.00</td>\n",
       "      <td>260.00</td>\n",
       "      <td>260.00</td>\n",
       "      <td>260.00</td>\n",
       "      <td>260.00</td>\n",
       "      <td>260.00</td>\n",
       "    </tr>\n",
       "    <tr>\n",
       "      <th>mean</th>\n",
       "      <td>368.27</td>\n",
       "      <td>21.82</td>\n",
       "      <td>29.97</td>\n",
       "      <td>0.20</td>\n",
       "      <td>18.39</td>\n",
       "      <td>20.68</td>\n",
       "      <td>15.78</td>\n",
       "      <td>6.53</td>\n",
       "      <td>29.42</td>\n",
       "      <td>13.34</td>\n",
       "      <td>13.43</td>\n",
       "      <td>8.53</td>\n",
       "      <td>20.97</td>\n",
       "      <td>7.73</td>\n",
       "    </tr>\n",
       "    <tr>\n",
       "      <th>std</th>\n",
       "      <td>240.27</td>\n",
       "      <td>21.89</td>\n",
       "      <td>26.64</td>\n",
       "      <td>0.43</td>\n",
       "      <td>29.09</td>\n",
       "      <td>24.03</td>\n",
       "      <td>9.42</td>\n",
       "      <td>6.31</td>\n",
       "      <td>28.68</td>\n",
       "      <td>11.43</td>\n",
       "      <td>24.37</td>\n",
       "      <td>26.35</td>\n",
       "      <td>17.02</td>\n",
       "      <td>8.72</td>\n",
       "    </tr>\n",
       "    <tr>\n",
       "      <th>min</th>\n",
       "      <td>0.00</td>\n",
       "      <td>0.00</td>\n",
       "      <td>0.00</td>\n",
       "      <td>0.00</td>\n",
       "      <td>0.00</td>\n",
       "      <td>0.00</td>\n",
       "      <td>0.00</td>\n",
       "      <td>0.00</td>\n",
       "      <td>0.00</td>\n",
       "      <td>0.00</td>\n",
       "      <td>0.00</td>\n",
       "      <td>0.00</td>\n",
       "      <td>0.00</td>\n",
       "      <td>0.00</td>\n",
       "    </tr>\n",
       "    <tr>\n",
       "      <th>25%</th>\n",
       "      <td>210.00</td>\n",
       "      <td>3.75</td>\n",
       "      <td>4.75</td>\n",
       "      <td>0.00</td>\n",
       "      <td>2.00</td>\n",
       "      <td>4.75</td>\n",
       "      <td>10.00</td>\n",
       "      <td>0.00</td>\n",
       "      <td>5.75</td>\n",
       "      <td>4.00</td>\n",
       "      <td>2.00</td>\n",
       "      <td>0.00</td>\n",
       "      <td>6.00</td>\n",
       "      <td>0.00</td>\n",
       "    </tr>\n",
       "    <tr>\n",
       "      <th>50%</th>\n",
       "      <td>340.00</td>\n",
       "      <td>17.00</td>\n",
       "      <td>24.00</td>\n",
       "      <td>0.00</td>\n",
       "      <td>11.00</td>\n",
       "      <td>8.00</td>\n",
       "      <td>15.00</td>\n",
       "      <td>5.00</td>\n",
       "      <td>17.50</td>\n",
       "      <td>12.00</td>\n",
       "      <td>8.00</td>\n",
       "      <td>0.00</td>\n",
       "      <td>20.00</td>\n",
       "      <td>4.00</td>\n",
       "    </tr>\n",
       "    <tr>\n",
       "      <th>75%</th>\n",
       "      <td>500.00</td>\n",
       "      <td>35.00</td>\n",
       "      <td>48.00</td>\n",
       "      <td>0.00</td>\n",
       "      <td>21.25</td>\n",
       "      <td>36.25</td>\n",
       "      <td>20.00</td>\n",
       "      <td>10.00</td>\n",
       "      <td>48.00</td>\n",
       "      <td>19.00</td>\n",
       "      <td>15.00</td>\n",
       "      <td>4.00</td>\n",
       "      <td>30.00</td>\n",
       "      <td>15.00</td>\n",
       "    </tr>\n",
       "    <tr>\n",
       "      <th>max</th>\n",
       "      <td>1880.00</td>\n",
       "      <td>182.00</td>\n",
       "      <td>102.00</td>\n",
       "      <td>2.50</td>\n",
       "      <td>192.00</td>\n",
       "      <td>150.00</td>\n",
       "      <td>47.00</td>\n",
       "      <td>28.00</td>\n",
       "      <td>128.00</td>\n",
       "      <td>87.00</td>\n",
       "      <td>170.00</td>\n",
       "      <td>240.00</td>\n",
       "      <td>70.00</td>\n",
       "      <td>40.00</td>\n",
       "    </tr>\n",
       "  </tbody>\n",
       "</table>\n",
       "</div>"
      ],
      "text/plain": [
       "       Calories  Total Fat (% Daily Value)  Saturated Fat (% Daily Value)  \\\n",
       "count    260.00                     260.00                         260.00   \n",
       "mean     368.27                      21.82                          29.97   \n",
       "std      240.27                      21.89                          26.64   \n",
       "min        0.00                       0.00                           0.00   \n",
       "25%      210.00                       3.75                           4.75   \n",
       "50%      340.00                      17.00                          24.00   \n",
       "75%      500.00                      35.00                          48.00   \n",
       "max     1880.00                     182.00                         102.00   \n",
       "\n",
       "       Trans Fat  Cholesterol (% Daily Value)  Sodium (% Daily Value)  \\\n",
       "count     260.00                       260.00                  260.00   \n",
       "mean        0.20                        18.39                   20.68   \n",
       "std         0.43                        29.09                   24.03   \n",
       "min         0.00                         0.00                    0.00   \n",
       "25%         0.00                         2.00                    4.75   \n",
       "50%         0.00                        11.00                    8.00   \n",
       "75%         0.00                        21.25                   36.25   \n",
       "max         2.50                       192.00                  150.00   \n",
       "\n",
       "       Carbohydrates (% Daily Value)  Dietary Fiber (% Daily Value)  Sugars  \\\n",
       "count                         260.00                         260.00  260.00   \n",
       "mean                           15.78                           6.53   29.42   \n",
       "std                             9.42                           6.31   28.68   \n",
       "min                             0.00                           0.00    0.00   \n",
       "25%                            10.00                           0.00    5.75   \n",
       "50%                            15.00                           5.00   17.50   \n",
       "75%                            20.00                          10.00   48.00   \n",
       "max                            47.00                          28.00  128.00   \n",
       "\n",
       "       Protein  Vitamin A (% Daily Value)  Vitamin C (% Daily Value)  \\\n",
       "count   260.00                     260.00                     260.00   \n",
       "mean     13.34                      13.43                       8.53   \n",
       "std      11.43                      24.37                      26.35   \n",
       "min       0.00                       0.00                       0.00   \n",
       "25%       4.00                       2.00                       0.00   \n",
       "50%      12.00                       8.00                       0.00   \n",
       "75%      19.00                      15.00                       4.00   \n",
       "max      87.00                     170.00                     240.00   \n",
       "\n",
       "       Calcium (% Daily Value)  Iron (% Daily Value)  \n",
       "count                   260.00                260.00  \n",
       "mean                     20.97                  7.73  \n",
       "std                      17.02                  8.72  \n",
       "min                       0.00                  0.00  \n",
       "25%                       6.00                  0.00  \n",
       "50%                      20.00                  4.00  \n",
       "75%                      30.00                 15.00  \n",
       "max                      70.00                 40.00  "
      ]
     },
     "execution_count": 246,
     "metadata": {},
     "output_type": "execute_result"
    }
   ],
   "source": [
    "final_data = data_reduced.drop(columns=['Calories from Fat'])\n",
    "final_data.describe().round(2)"
   ]
  },
  {
   "cell_type": "code",
   "execution_count": 247,
   "metadata": {},
   "outputs": [
    {
     "name": "stdout",
     "output_type": "stream",
     "text": [
      "0       4.8\n",
      "1       4.8\n",
      "2       3.9\n",
      "3       5.7\n",
      "4       5.7\n",
      "       ... \n",
      "255    10.1\n",
      "256    13.4\n",
      "257     6.7\n",
      "258    14.2\n",
      "259     7.1\n",
      "Name: Serving Size, Length: 260, dtype: float64\n"
     ]
    }
   ],
   "source": [
    "data = pd.read_csv('menu.csv')\n",
    "data['Serving Size'] = data['Serving Size'].apply(lambda x : float(x.split(' ')[0]))\n",
    "data['Serving Size'].describe()\n",
    "print(data['Serving Size'])"
   ]
  },
  {
   "cell_type": "code",
   "execution_count": 248,
   "metadata": {
    "pycharm": {
     "name": "#%%\n"
    }
   },
   "outputs": [],
   "source": [
    "# for c in ['Trans Fat', 'Sugars', 'Protein']:\n",
    "#     final_data[c] = final_data[c] / data['Serving Size']\n",
    "    \n",
    "for c in final_data:\n",
    "    final_data[c] = final_data[c] / data['Serving Size']\n",
    "    \n",
    "for c in ['Total Fat (% Daily Value)', 'Saturated Fat (% Daily Value)', 'Cholesterol (% Daily Value)', 'Sodium (% Daily Value)', 'Carbohydrates (% Daily Value)', 'Dietary Fiber (% Daily Value)', 'Vitamin A (% Daily Value)', 'Vitamin C (% Daily Value)', 'Calcium (% Daily Value)', 'Iron (% Daily Value)']:\n",
    "    final_data[c] = final_data[c] / 100\n",
    "\n",
    "c = 'Calories'\n",
    "final_data[c] = final_data[c] / 2500"
   ]
  },
  {
   "cell_type": "code",
   "execution_count": 249,
   "metadata": {
    "pycharm": {
     "name": "#%%\n"
    }
   },
   "outputs": [
    {
     "data": {
      "text/html": [
       "<div>\n",
       "<style scoped>\n",
       "    .dataframe tbody tr th:only-of-type {\n",
       "        vertical-align: middle;\n",
       "    }\n",
       "\n",
       "    .dataframe tbody tr th {\n",
       "        vertical-align: top;\n",
       "    }\n",
       "\n",
       "    .dataframe thead th {\n",
       "        text-align: right;\n",
       "    }\n",
       "</style>\n",
       "<table border=\"1\" class=\"dataframe\">\n",
       "  <thead>\n",
       "    <tr style=\"text-align: right;\">\n",
       "      <th></th>\n",
       "      <th>Calories</th>\n",
       "      <th>Total Fat (% Daily Value)</th>\n",
       "      <th>Saturated Fat (% Daily Value)</th>\n",
       "      <th>Trans Fat</th>\n",
       "      <th>Cholesterol (% Daily Value)</th>\n",
       "      <th>Sodium (% Daily Value)</th>\n",
       "      <th>Carbohydrates (% Daily Value)</th>\n",
       "      <th>Dietary Fiber (% Daily Value)</th>\n",
       "      <th>Sugars</th>\n",
       "      <th>Protein</th>\n",
       "      <th>Vitamin A (% Daily Value)</th>\n",
       "      <th>Vitamin C (% Daily Value)</th>\n",
       "      <th>Calcium (% Daily Value)</th>\n",
       "      <th>Iron (% Daily Value)</th>\n",
       "    </tr>\n",
       "  </thead>\n",
       "  <tbody>\n",
       "    <tr>\n",
       "      <th>count</th>\n",
       "      <td>260.00</td>\n",
       "      <td>260.00</td>\n",
       "      <td>260.00</td>\n",
       "      <td>260.00</td>\n",
       "      <td>260.00</td>\n",
       "      <td>260.00</td>\n",
       "      <td>260.00</td>\n",
       "      <td>260.00</td>\n",
       "      <td>260.00</td>\n",
       "      <td>260.00</td>\n",
       "      <td>260.00</td>\n",
       "      <td>260.00</td>\n",
       "      <td>260.00</td>\n",
       "      <td>260.00</td>\n",
       "    </tr>\n",
       "    <tr>\n",
       "      <th>mean</th>\n",
       "      <td>0.02</td>\n",
       "      <td>0.03</td>\n",
       "      <td>0.03</td>\n",
       "      <td>0.02</td>\n",
       "      <td>0.02</td>\n",
       "      <td>0.03</td>\n",
       "      <td>0.02</td>\n",
       "      <td>0.01</td>\n",
       "      <td>2.38</td>\n",
       "      <td>1.58</td>\n",
       "      <td>0.01</td>\n",
       "      <td>0.01</td>\n",
       "      <td>0.02</td>\n",
       "      <td>0.01</td>\n",
       "    </tr>\n",
       "    <tr>\n",
       "      <th>std</th>\n",
       "      <td>0.01</td>\n",
       "      <td>0.03</td>\n",
       "      <td>0.03</td>\n",
       "      <td>0.05</td>\n",
       "      <td>0.04</td>\n",
       "      <td>0.03</td>\n",
       "      <td>0.01</td>\n",
       "      <td>0.01</td>\n",
       "      <td>2.53</td>\n",
       "      <td>1.56</td>\n",
       "      <td>0.03</td>\n",
       "      <td>0.09</td>\n",
       "      <td>0.03</td>\n",
       "      <td>0.01</td>\n",
       "    </tr>\n",
       "    <tr>\n",
       "      <th>min</th>\n",
       "      <td>0.00</td>\n",
       "      <td>0.00</td>\n",
       "      <td>0.00</td>\n",
       "      <td>0.00</td>\n",
       "      <td>0.00</td>\n",
       "      <td>0.00</td>\n",
       "      <td>0.00</td>\n",
       "      <td>0.00</td>\n",
       "      <td>0.00</td>\n",
       "      <td>0.00</td>\n",
       "      <td>0.00</td>\n",
       "      <td>0.00</td>\n",
       "      <td>0.00</td>\n",
       "      <td>0.00</td>\n",
       "    </tr>\n",
       "    <tr>\n",
       "      <th>25%</th>\n",
       "      <td>0.01</td>\n",
       "      <td>0.00</td>\n",
       "      <td>0.01</td>\n",
       "      <td>0.00</td>\n",
       "      <td>0.00</td>\n",
       "      <td>0.00</td>\n",
       "      <td>0.01</td>\n",
       "      <td>0.00</td>\n",
       "      <td>0.74</td>\n",
       "      <td>0.52</td>\n",
       "      <td>0.00</td>\n",
       "      <td>0.00</td>\n",
       "      <td>0.01</td>\n",
       "      <td>0.00</td>\n",
       "    </tr>\n",
       "    <tr>\n",
       "      <th>50%</th>\n",
       "      <td>0.01</td>\n",
       "      <td>0.02</td>\n",
       "      <td>0.03</td>\n",
       "      <td>0.00</td>\n",
       "      <td>0.01</td>\n",
       "      <td>0.01</td>\n",
       "      <td>0.01</td>\n",
       "      <td>0.00</td>\n",
       "      <td>1.61</td>\n",
       "      <td>0.83</td>\n",
       "      <td>0.01</td>\n",
       "      <td>0.00</td>\n",
       "      <td>0.02</td>\n",
       "      <td>0.00</td>\n",
       "    </tr>\n",
       "    <tr>\n",
       "      <th>75%</th>\n",
       "      <td>0.03</td>\n",
       "      <td>0.05</td>\n",
       "      <td>0.05</td>\n",
       "      <td>0.00</td>\n",
       "      <td>0.02</td>\n",
       "      <td>0.06</td>\n",
       "      <td>0.02</td>\n",
       "      <td>0.01</td>\n",
       "      <td>3.17</td>\n",
       "      <td>2.91</td>\n",
       "      <td>0.01</td>\n",
       "      <td>0.01</td>\n",
       "      <td>0.03</td>\n",
       "      <td>0.02</td>\n",
       "    </tr>\n",
       "    <tr>\n",
       "      <th>max</th>\n",
       "      <td>0.06</td>\n",
       "      <td>0.12</td>\n",
       "      <td>0.19</td>\n",
       "      <td>0.25</td>\n",
       "      <td>0.19</td>\n",
       "      <td>0.11</td>\n",
       "      <td>0.08</td>\n",
       "      <td>0.06</td>\n",
       "      <td>22.00</td>\n",
       "      <td>9.00</td>\n",
       "      <td>0.22</td>\n",
       "      <td>1.33</td>\n",
       "      <td>0.30</td>\n",
       "      <td>0.08</td>\n",
       "    </tr>\n",
       "  </tbody>\n",
       "</table>\n",
       "</div>"
      ],
      "text/plain": [
       "       Calories  Total Fat (% Daily Value)  Saturated Fat (% Daily Value)  \\\n",
       "count    260.00                     260.00                         260.00   \n",
       "mean       0.02                       0.03                           0.03   \n",
       "std        0.01                       0.03                           0.03   \n",
       "min        0.00                       0.00                           0.00   \n",
       "25%        0.01                       0.00                           0.01   \n",
       "50%        0.01                       0.02                           0.03   \n",
       "75%        0.03                       0.05                           0.05   \n",
       "max        0.06                       0.12                           0.19   \n",
       "\n",
       "       Trans Fat  Cholesterol (% Daily Value)  Sodium (% Daily Value)  \\\n",
       "count     260.00                       260.00                  260.00   \n",
       "mean        0.02                         0.02                    0.03   \n",
       "std         0.05                         0.04                    0.03   \n",
       "min         0.00                         0.00                    0.00   \n",
       "25%         0.00                         0.00                    0.00   \n",
       "50%         0.00                         0.01                    0.01   \n",
       "75%         0.00                         0.02                    0.06   \n",
       "max         0.25                         0.19                    0.11   \n",
       "\n",
       "       Carbohydrates (% Daily Value)  Dietary Fiber (% Daily Value)  Sugars  \\\n",
       "count                         260.00                         260.00  260.00   \n",
       "mean                            0.02                           0.01    2.38   \n",
       "std                             0.01                           0.01    2.53   \n",
       "min                             0.00                           0.00    0.00   \n",
       "25%                             0.01                           0.00    0.74   \n",
       "50%                             0.01                           0.00    1.61   \n",
       "75%                             0.02                           0.01    3.17   \n",
       "max                             0.08                           0.06   22.00   \n",
       "\n",
       "       Protein  Vitamin A (% Daily Value)  Vitamin C (% Daily Value)  \\\n",
       "count   260.00                     260.00                     260.00   \n",
       "mean      1.58                       0.01                       0.01   \n",
       "std       1.56                       0.03                       0.09   \n",
       "min       0.00                       0.00                       0.00   \n",
       "25%       0.52                       0.00                       0.00   \n",
       "50%       0.83                       0.01                       0.00   \n",
       "75%       2.91                       0.01                       0.01   \n",
       "max       9.00                       0.22                       1.33   \n",
       "\n",
       "       Calcium (% Daily Value)  Iron (% Daily Value)  \n",
       "count                   260.00                260.00  \n",
       "mean                      0.02                  0.01  \n",
       "std                       0.03                  0.01  \n",
       "min                       0.00                  0.00  \n",
       "25%                       0.01                  0.00  \n",
       "50%                       0.02                  0.00  \n",
       "75%                       0.03                  0.02  \n",
       "max                       0.30                  0.08  "
      ]
     },
     "execution_count": 249,
     "metadata": {},
     "output_type": "execute_result"
    }
   ],
   "source": [
    "final_data.describe().round(2)"
   ]
  },
  {
   "cell_type": "code",
   "execution_count": 250,
   "metadata": {
    "pycharm": {
     "name": "#%%\n"
    }
   },
   "outputs": [],
   "source": [
    "# for col in final_data:\n",
    "#     final_data[col] = final_data[col].apply(lambda x: x if x == 0 else np.log(x))\n",
    "# final_data.describe().round(2)"
   ]
  },
  {
   "cell_type": "code",
   "execution_count": 251,
   "metadata": {
    "pycharm": {
     "name": "#%%\n"
    }
   },
   "outputs": [],
   "source": [
    "# final_data = final_data - final_data.mean()\n",
    "# final_data.describe().round(2)"
   ]
  },
  {
   "cell_type": "code",
   "execution_count": 252,
   "metadata": {
    "pycharm": {
     "name": "#%%\n"
    }
   },
   "outputs": [],
   "source": [
    "# final_data = final_data / final_data.std()\n",
    "# final_data.describe().round(2)"
   ]
  },
  {
   "cell_type": "code",
   "execution_count": 253,
   "metadata": {
    "pycharm": {
     "name": "#%%\n"
    }
   },
   "outputs": [
    {
     "data": {
      "text/plain": [
       "<AxesSubplot:>"
      ]
     },
     "execution_count": 253,
     "metadata": {},
     "output_type": "execute_result"
    },
    {
     "data": {
      "image/png": "[encoded data removed]",
      "text/plain": [
       "<Figure size 432x288 with 2 Axes>"
      ]
     },
     "metadata": {
      "needs_background": "light"
     },
     "output_type": "display_data"
    }
   ],
   "source": [
    "sb.heatmap(np.corrcoef(final_data.to_numpy(), rowvar=False))"
   ]
  },
  {
   "cell_type": "code",
   "execution_count": 254,
   "metadata": {
    "pycharm": {
     "name": "#%%\n"
    }
   },
   "outputs": [],
   "source": [
    "final_data_np = final_data.to_numpy()"
   ]
  },
  {
   "cell_type": "code",
   "execution_count": 255,
   "metadata": {
    "pycharm": {
     "name": "#%%\n"
    }
   },
   "outputs": [],
   "source": [
    "def score_basic_kmeans(data, func, verbose=False, n_clusters=5):\n",
    "    kmeans = KMeans(n_clusters=n_clusters, init=func, verbose=verbose)\n",
    "    kmeans.fit(data)\n",
    "    return davies_bouldin_score(data, kmeans.labels_)"
   ]
  },
  {
   "cell_type": "code",
   "execution_count": 256,
   "metadata": {
    "pycharm": {
     "name": "#%%\n"
    }
   },
   "outputs": [
    {
     "data": {
      "text/plain": [
       "0.5313922502050332"
      ]
     },
     "execution_count": 256,
     "metadata": {},
     "output_type": "execute_result"
    }
   ],
   "source": [
    "score_basic_kmeans(final_data_np, \"k-means++\")"
   ]
  },
  {
   "cell_type": "code",
   "execution_count": 257,
   "metadata": {
    "pycharm": {
     "name": "#%%\n"
    }
   },
   "outputs": [
    {
     "data": {
      "text/plain": [
       "0.5313922502050332"
      ]
     },
     "execution_count": 257,
     "metadata": {},
     "output_type": "execute_result"
    }
   ],
   "source": [
    "score_basic_kmeans(final_data_np, \"random\")"
   ]
  },
  {
   "cell_type": "code",
   "execution_count": 258,
   "metadata": {
    "pycharm": {
     "name": "#%%\n"
    }
   },
   "outputs": [],
   "source": [
    "def get_random(X, n_clusters, random_state):\n",
    "    X = np.array(X)\n",
    "    res = [[random.uniform(min(list(X[:, i])), max(list(X[:, i]))) for j in range(n_clusters)] for i in range(X.shape[1])]\n",
    "    return np.stack(res, axis=1)"
   ]
  },
  {
   "cell_type": "code",
   "execution_count": 259,
   "metadata": {
    "pycharm": {
     "name": "#%%\n"
    }
   },
   "outputs": [
    {
     "data": {
      "text/plain": [
       "0.5283876125181701"
      ]
     },
     "execution_count": 259,
     "metadata": {},
     "output_type": "execute_result"
    }
   ],
   "source": [
    "score_basic_kmeans(final_data_np, get_random)"
   ]
  },
  {
   "cell_type": "code",
   "execution_count": 260,
   "metadata": {
    "pycharm": {
     "name": "#%%\n"
    }
   },
   "outputs": [],
   "source": [
    "NUM_ATTEMPTS = 5\n",
    "NUM_CLUSTERS = 5\n",
    "NUM_ITER = 50\n",
    "\n",
    "def assess_method(data_sample, method):\n",
    "    scores = []\n",
    "\n",
    "    for sample in range(NUM_ATTEMPTS):\n",
    "        print('\\nCentroid attempt: ', sample)\n",
    "        km = KMeans(n_clusters=NUM_CLUSTERS, init=method, max_iter=1, n_init=1)#, verbose=1)\n",
    "        km.fit(data_sample)\n",
    "        scores.append([])\n",
    "        cents = km.cluster_centers_\n",
    "\n",
    "        for iter in range(NUM_ITER):\n",
    "            km = KMeans(n_clusters=NUM_CLUSTERS, init=cents, max_iter=1, n_init=1)\n",
    "            km.fit(data_sample)\n",
    "            scores[sample].append(davies_bouldin_score(data_sample, km.labels_))\n",
    "            cents = km.cluster_centers_\n",
    "    return np.array(scores)"
   ]
  },
  {
   "cell_type": "code",
   "execution_count": 261,
   "metadata": {
    "pycharm": {
     "name": "#%%\n"
    }
   },
   "outputs": [],
   "source": [
    "def plot_assessment(assessment, xlabel=\"iteration\", ylabel=\"davies_bouldin_score\"):\n",
    "    assessment = assessment.T\n",
    "    stds = [np.std(res) for res in assessment]\n",
    "    means = [np.mean(res) for res in assessment]\n",
    "    plt.figure(figsize=(10, 6))\n",
    "    plt.bar(range(assessment.shape[0]), means, yerr=stds, align='center', alpha=0.5, ecolor='black', capsize=3)\n",
    "    # plt.xticks(range(assessment.shape[1]))\n",
    "    plt.xlabel(xlabel)\n",
    "    plt.ylabel(ylabel)\n",
    "    plt.savefig(f'method_assessment_{xlabel}')\n",
    "    return means[-1], stds[-1]"
   ]
  },
  {
   "cell_type": "code",
   "execution_count": 262,
   "metadata": {
    "pycharm": {
     "name": "#%%\n"
    }
   },
   "outputs": [
    {
     "name": "stdout",
     "output_type": "stream",
     "text": [
      "\n",
      "Centroid attempt:  0\n",
      "\n",
      "Centroid attempt:  1\n",
      "\n",
      "Centroid attempt:  2\n",
      "\n",
      "Centroid attempt:  3\n",
      "\n",
      "Centroid attempt:  4\n",
      "(0.7075909103123852, 0.14387499685560937)\n"
     ]
    },
    {
     "data": {
      "image/png": "[encoded data removed]",
      "text/plain": [
       "<Figure size 720x432 with 1 Axes>"
      ]
     },
     "metadata": {
      "needs_background": "light"
     },
     "output_type": "display_data"
    }
   ],
   "source": [
    "assessment = assess_method(final_data, \"random\")\n",
    "print(plot_assessment(assessment))"
   ]
  },
  {
   "cell_type": "code",
   "execution_count": 263,
   "metadata": {
    "pycharm": {
     "name": "#%%\n"
    }
   },
   "outputs": [
    {
     "name": "stdout",
     "output_type": "stream",
     "text": [
      "\n",
      "Centroid attempt:  0\n",
      "\n",
      "Centroid attempt:  1\n",
      "\n",
      "Centroid attempt:  2\n",
      "\n",
      "Centroid attempt:  3\n",
      "\n",
      "Centroid attempt:  4\n",
      "(0.49129399794730466, 0.04157391199276761)\n"
     ]
    },
    {
     "data": {
      "image/png": "[encoded data removed]",
      "text/plain": [
       "<Figure size 720x432 with 1 Axes>"
      ]
     },
     "metadata": {
      "needs_background": "light"
     },
     "output_type": "display_data"
    }
   ],
   "source": [
    "assessment = assess_method(final_data, \"k-means++\")\n",
    "print(plot_assessment(assessment))"
   ]
  },
  {
   "cell_type": "code",
   "execution_count": 264,
   "metadata": {
    "pycharm": {
     "name": "#%%\n"
    }
   },
   "outputs": [
    {
     "name": "stdout",
     "output_type": "stream",
     "text": [
      "\n",
      "Centroid attempt:  0\n",
      "\n",
      "Centroid attempt:  1\n",
      "\n",
      "Centroid attempt:  2\n",
      "\n",
      "Centroid attempt:  3\n",
      "\n",
      "Centroid attempt:  4\n",
      "(0.5104340815756772, 0.038318625946459586)\n"
     ]
    },
    {
     "data": {
      "image/png": "[encoded data removed]",
      "text/plain": [
       "<Figure size 720x432 with 1 Axes>"
      ]
     },
     "metadata": {
      "needs_background": "light"
     },
     "output_type": "display_data"
    }
   ],
   "source": [
    "assessment = assess_method(final_data, get_random)\n",
    "print(plot_assessment(assessment))"
   ]
  },
  {
   "cell_type": "code",
   "execution_count": 265,
   "metadata": {
    "pycharm": {
     "name": "#%%\n"
    }
   },
   "outputs": [],
   "source": [
    "best_method = get_random\n",
    "def assess_k(data, ns_clusters, repetitions):\n",
    "    k_scores = []\n",
    "    for k in range(len(ns_clusters)):\n",
    "        k_scores.append([])\n",
    "        for i in range(repetitions):\n",
    "            kmeans = KMeans(n_clusters=ns_clusters[k], init=best_method)\n",
    "            kmeans.fit(data)\n",
    "            k_scores[k].append(davies_bouldin_score(data, kmeans.labels_))\n",
    "        k_scores[k] = np.array(k_scores[k])\n",
    "    return np.array(k_scores)"
   ]
  },
  {
   "cell_type": "code",
   "execution_count": 266,
   "metadata": {
    "pycharm": {
     "name": "#%%\n"
    }
   },
   "outputs": [],
   "source": [
    "k_range = range(3, 21)\n",
    "k_assessment = assess_k(final_data, k_range, 30)"
   ]
  },
  {
   "cell_type": "code",
   "execution_count": 267,
   "metadata": {
    "pycharm": {
     "name": "#%%\n"
    }
   },
   "outputs": [],
   "source": [
    "def plot_k_assessment(assessment, k_range):\n",
    "    stds = [np.std(res) for res in assessment]\n",
    "    means = [np.mean(res) for res in assessment]\n",
    "    plt.bar(k_range, means, yerr=stds, align='center', alpha=0.5, ecolor='black', capsize=3)\n",
    "    plt.xticks(k_range)\n",
    "    plt.xlabel(\"k\")\n",
    "    plt.ylabel(\"davies_bouldin_score\")\n",
    "    plt.savefig(f'k_assessment_{k_range}')"
   ]
  },
  {
   "cell_type": "code",
   "execution_count": 268,
   "metadata": {
    "pycharm": {
     "name": "#%%\n"
    }
   },
   "outputs": [
    {
     "data": {
      "image/png": "[encoded data removed]",
      "text/plain": [
       "<Figure size 432x288 with 1 Axes>"
      ]
     },
     "metadata": {
      "needs_background": "light"
     },
     "output_type": "display_data"
    }
   ],
   "source": [
    "plot_k_assessment(k_assessment, k_range)"
   ]
  },
  {
   "cell_type": "code",
   "execution_count": 269,
   "metadata": {
    "pycharm": {
     "name": "#%%\n"
    }
   },
   "outputs": [
    {
     "name": "stdout",
     "output_type": "stream",
     "text": [
      "7\n"
     ]
    }
   ],
   "source": [
    "means = [np.mean(res) for res in k_assessment]\n",
    "stds = [np.std(res) for res in k_assessment]\n",
    "lower = [means[i] - stds[i] for i in range(len(means))]\n",
    "print(k_range[lower.index(min(lower))])"
   ]
  },
  {
   "cell_type": "code",
   "execution_count": 270,
   "metadata": {
    "pycharm": {
     "name": "#%%\n"
    }
   },
   "outputs": [],
   "source": [
    "def get_res(data, method, n_clusters):\n",
    "    kmeans = KMeans(n_clusters=n_clusters, init=method, n_init=1)\n",
    "    kmeans.fit(data)\n",
    "    return kmeans.labels_, kmeans.cluster_centers_"
   ]
  },
  {
   "cell_type": "code",
   "execution_count": 271,
   "metadata": {
    "pycharm": {
     "name": "#%%\n"
    }
   },
   "outputs": [],
   "source": [
    "BEST_K = 7"
   ]
  },
  {
   "cell_type": "code",
   "execution_count": 272,
   "metadata": {
    "pycharm": {
     "name": "#%%\n"
    }
   },
   "outputs": [],
   "source": [
    "data = pd.read_csv('menu.csv')\n",
    "\n",
    "distinct_categories = list(set(data['Category']))\n",
    "COLOR_NUM = max(BEST_K, len(distinct_categories))\n",
    "colors = []\n",
    "\n",
    "for i in range(COLOR_NUM):\n",
    "    colors.append('#%06X' % random.randint(0, 0xFFFFFF))"
   ]
  },
  {
   "cell_type": "code",
   "execution_count": 273,
   "metadata": {
    "pycharm": {
     "name": "#%%\n"
    }
   },
   "outputs": [],
   "source": [
    "labels, centers = get_res(final_data_np, best_method, BEST_K)\n",
    "label_colors = [colors[label] for label in labels]"
   ]
  },
  {
   "cell_type": "code",
   "execution_count": 274,
   "metadata": {
    "pycharm": {
     "name": "#%%\n"
    }
   },
   "outputs": [
    {
     "data": {
      "text/plain": [
       "array([[5.00e-02, 0.00e+00, 0.00e+00, 0.00e+00, 2.00e-02, 6.00e-02,\n",
       "        8.00e-02, 2.00e-02, 2.20e+01, 9.00e+00, 1.00e-01, 0.00e+00,\n",
       "        3.00e-01, 8.00e-02],\n",
       "       [1.00e-02, 1.00e-02, 1.00e-02, 0.00e+00, 0.00e+00, 0.00e+00,\n",
       "        1.00e-02, 1.00e-02, 6.10e-01, 3.20e-01, 1.00e-02, 1.00e-02,\n",
       "        1.00e-02, 0.00e+00],\n",
       "       [3.00e-02, 6.00e-02, 6.00e-02, 4.00e-02, 5.00e-02, 7.00e-02,\n",
       "        2.00e-02, 2.00e-02, 9.40e-01, 3.37e+00, 2.00e-02, 1.00e-02,\n",
       "        2.00e-02, 2.00e-02],\n",
       "       [2.00e-02, 3.00e-02, 5.00e-02, 4.00e-02, 1.00e-02, 1.00e-02,\n",
       "        3.00e-02, 1.00e-02, 6.28e+00, 1.00e+00, 1.00e-02, 0.00e+00,\n",
       "        3.00e-02, 1.00e-02],\n",
       "       [1.00e-02, 1.00e-02, 1.00e-02, 1.00e-02, 0.00e+00, 0.00e+00,\n",
       "        1.00e-02, 0.00e+00, 3.05e+00, 5.50e-01, 1.00e-02, 3.00e-02,\n",
       "        2.00e-02, 0.00e+00],\n",
       "       [4.00e-02, 4.00e-02, 8.00e-02, 0.00e+00, 3.00e-02, 5.00e-02,\n",
       "        4.00e-02, 0.00e+00, 1.20e+01, 8.00e+00, 1.00e-01, 4.00e-02,\n",
       "        3.00e-01, 0.00e+00],\n",
       "       [6.00e-02, 1.00e-01, 1.60e-01, 0.00e+00, 3.00e-02, 5.00e-02,\n",
       "        7.00e-02, 3.00e-02, 1.40e+01, 2.00e+00, 2.00e-02, 0.00e+00,\n",
       "        2.00e-02, 7.00e-02]])"
      ]
     },
     "execution_count": 274,
     "metadata": {},
     "output_type": "execute_result"
    }
   ],
   "source": [
    "np.round(centers, 2)"
   ]
  },
  {
   "cell_type": "code",
   "execution_count": 275,
   "metadata": {
    "pycharm": {
     "name": "#%%\n"
    }
   },
   "outputs": [
    {
     "name": "stdout",
     "output_type": "stream",
     "text": [
      "7\n"
     ]
    },
    {
     "data": {
      "text/plain": [
       "array([[5.00e-02, 0.00e+00, 0.00e+00, 0.00e+00, 2.00e-02, 6.00e-02,\n",
       "        8.00e-02, 2.00e-02, 2.20e+01, 9.00e+00, 1.00e-01, 0.00e+00,\n",
       "        3.00e-01, 8.00e-02],\n",
       "       [1.00e-02, 1.00e-02, 1.00e-02, 0.00e+00, 0.00e+00, 0.00e+00,\n",
       "        1.00e-02, 1.00e-02, 6.10e-01, 3.20e-01, 1.00e-02, 1.00e-02,\n",
       "        1.00e-02, 0.00e+00],\n",
       "       [3.00e-02, 6.00e-02, 6.00e-02, 4.00e-02, 5.00e-02, 7.00e-02,\n",
       "        2.00e-02, 2.00e-02, 9.40e-01, 3.37e+00, 2.00e-02, 1.00e-02,\n",
       "        2.00e-02, 2.00e-02],\n",
       "       [2.00e-02, 3.00e-02, 5.00e-02, 4.00e-02, 1.00e-02, 1.00e-02,\n",
       "        3.00e-02, 1.00e-02, 6.28e+00, 1.00e+00, 1.00e-02, 0.00e+00,\n",
       "        3.00e-02, 1.00e-02],\n",
       "       [1.00e-02, 1.00e-02, 1.00e-02, 1.00e-02, 0.00e+00, 0.00e+00,\n",
       "        1.00e-02, 0.00e+00, 3.05e+00, 5.50e-01, 1.00e-02, 3.00e-02,\n",
       "        2.00e-02, 0.00e+00],\n",
       "       [4.00e-02, 4.00e-02, 8.00e-02, 0.00e+00, 3.00e-02, 5.00e-02,\n",
       "        4.00e-02, 0.00e+00, 1.20e+01, 8.00e+00, 1.00e-01, 4.00e-02,\n",
       "        3.00e-01, 0.00e+00],\n",
       "       [6.00e-02, 1.00e-01, 1.60e-01, 0.00e+00, 3.00e-02, 5.00e-02,\n",
       "        7.00e-02, 3.00e-02, 1.40e+01, 2.00e+00, 2.00e-02, 0.00e+00,\n",
       "        2.00e-02, 7.00e-02]])"
      ]
     },
     "execution_count": 275,
     "metadata": {},
     "output_type": "execute_result"
    }
   ],
   "source": [
    "print(len(centers))\n",
    "np.round(centers,2)"
   ]
  },
  {
   "cell_type": "code",
   "execution_count": 276,
   "metadata": {},
   "outputs": [
    {
     "name": "stdout",
     "output_type": "stream",
     "text": [
      "[2 2 2 2 2 2 2 2 2 2 2 2 2 2 2 2 2 2 2 2 2 4 2 2 2 2 2 2 2 2 2 2 2 2 2 4 2\n",
      " 2 1 3 4 4 2 2 2 2 2 2 2 2 2 2 2 2 2 2 2 2 2 2 2 2 2 2 2 2 2 2 2 2 2 2 2 2\n",
      " 2 2 2 2 2 2 2 2 2 2 1 2 2 1 2 2 2 2 2 2 2 2 1 1 1 1 1 4 4 3 6 6 3 3 3 3 4\n",
      " 4 4 4 1 1 1 1 4 4 4 4 1 1 1 1 4 4 4 4 5 0 4 4 4 4 1 1 1 1 1 4 4 1 4 1 1 1\n",
      " 1 1 1 4 4 4 4 4 4 4 4 4 1 1 1 1 1 1 4 4 4 4 4 4 4 4 4 1 1 1 4 4 4 4 4 4 4\n",
      " 4 4 4 4 4 4 4 4 4 4 4 1 1 1 1 1 1 1 1 1 1 1 1 1 1 1 4 4 4 4 4 4 4 4 4 4 4\n",
      " 4 3 4 4 3 4 4 3 3 4 4 4 4 4 4 4 4 4 4 3 3 4 3 3 3 3 3 3 3 3 3 3 3 3 3 3 3\n",
      " 3]\n",
      "[ 1 52 88 28 88  1  2]\n"
     ]
    }
   ],
   "source": [
    "print(labels)\n",
    "unique, counts = np.unique(labels, return_counts=True)\n",
    "print(counts)"
   ]
  },
  {
   "cell_type": "code",
   "execution_count": 277,
   "metadata": {
    "pycharm": {
     "name": "#%%\n"
    }
   },
   "outputs": [
    {
     "data": {
      "image/png": "[encoded data removed]",
      "text/plain": [
       "<Figure size 720x540 with 1 Axes>"
      ]
     },
     "metadata": {
      "needs_background": "light"
     },
     "output_type": "display_data"
    }
   ],
   "source": [
    "pca = PCA(n_components=2)\n",
    "pca.fit(final_data_np)\n",
    "transformed_data = pca.transform(final_data_np)\n",
    "transformed_centers = pca.transform(centers)\n",
    "fig=plt.figure(figsize=(10, 7.5))\n",
    "plt.scatter(transformed_data[:,0], transformed_data[:, 1], c=label_colors, s=15)\n",
    "plt.scatter(centers[:,0], centers[:, 1], c=colors[:BEST_K])\n",
    "\n",
    "recs = []\n",
    "for i in range(BEST_K):\n",
    "    recs.append(mpatches.Rectangle((0,0),1,1,fc=colors[i]))\n",
    "\n",
    "plt.legend(recs, range(1, BEST_K + 1), loc='lower right')\n",
    "plt.xlabel('principal component 1')\n",
    "plt.ylabel('principal component 2')\n",
    "plt.savefig('cluters_pca')"
   ]
  },
  {
   "cell_type": "code",
   "execution_count": 278,
   "metadata": {
    "pycharm": {
     "name": "#%%\n"
    }
   },
   "outputs": [],
   "source": [
    "category_colors = [colors[distinct_categories.index(category)] for category in data['Category']]"
   ]
  },
  {
   "cell_type": "code",
   "execution_count": 279,
   "metadata": {
    "pycharm": {
     "name": "#%%\n"
    }
   },
   "outputs": [
    {
     "data": {
      "image/png": "[encoded data removed]",
      "text/plain": [
       "<Figure size 720x540 with 1 Axes>"
      ]
     },
     "metadata": {
      "needs_background": "light"
     },
     "output_type": "display_data"
    }
   ],
   "source": [
    "fig=plt.figure(figsize=(10, 7.5))\n",
    "plt.scatter(transformed_data[:,0], transformed_data[:, 1], c=category_colors, s=15)\n",
    "recs = []\n",
    "for i in range(len(distinct_categories)):\n",
    "    recs.append(mpatches.Rectangle((0,0),1,1,fc=colors[i]))\n",
    "plt.legend(recs, distinct_categories, loc='lower right')\n",
    "plt.xlabel('principal component 1')\n",
    "plt.ylabel('principal component 2')\n",
    "plt.savefig('categories')"
   ]
  }
 ],
 "metadata": {
  "kernelspec": {
   "display_name": "Python 3",
   "language": "python",
   "name": "python3"
  },
  "language_info": {
   "codemirror_mode": {
    "name": "ipython",
    "version": 3
   },
   "file_extension": ".py",
   "mimetype": "text/x-python",
   "name": "python",
   "nbconvert_exporter": "python",
   "pygments_lexer": "ipython3",
   "version": "3.8.5"
  }
 },
 "nbformat": 4,
 "nbformat_minor": 1
}