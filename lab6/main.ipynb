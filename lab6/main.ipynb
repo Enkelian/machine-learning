{
 "cells": [
  {
   "cell_type": "code",
   "execution_count": 1,
   "metadata": {
    "collapsed": true
   },
   "outputs": [],
   "source": [
    "import numpy as np\n",
    "import pandas as pd\n",
    "import seaborn as sb\n",
    "import random\n",
    "import re"
   ]
  },
  {
   "cell_type": "code",
   "execution_count": 29,
   "outputs": [
    {
     "data": {
      "text/plain": "              Timestamp Country      STATE       CITY  \\\n0      4/6/2021 0:48:07   INDIA  TELANGANA  HYDERABAD   \n1     4/6/2021 15:31:21   INDIA  TELANGANA  HYDERABAD   \n2    4/19/2021 12:06:03   INDIA  TELANGANA  HYDERABAD   \n3    4/19/2021 12:29:41   INDIA  TELANGANA  HYDERABAD   \n4    4/19/2021 12:34:24   INDIA  TELANGANA     OTHERS   \n..                  ...     ...        ...        ...   \n222  4/21/2021 13:33:25   INDIA  TELANGANA  HYDERABAD   \n223  4/21/2021 14:47:59   INDIA  TELANGANA     OTHERS   \n224  4/22/2021 10:13:11   INDIA  TELANGANA  HYDERABAD   \n225  4/22/2021 11:04:47   INDIA  TELANGANA  HYDERABAD   \n226  4/22/2021 11:10:36   INDIA  TELANGANA  HYDERABAD   \n\n    Are you above 18 Years of Age.  EYE PAIN CHEST PAIN SOAR THROAT  \\\n0                               Yes      YES        Yes          No   \n1                               Yes      YES        Yes          No   \n2                               Yes       NO         No          No   \n3                               Yes       NO         No          No   \n4                               Yes       NO         No          No   \n..                              ...      ...        ...         ...   \n222                             Yes       NO         No          No   \n223                             Yes       NO         No          No   \n224                             Yes       NO         No          No   \n225                             Yes       NO         No          No   \n226                             Yes       NO         No          No   \n\n    STUFFY/RUNNY NOSE WEAKNESS FATIGUE  ...  \\\n0                  No               No  ...   \n1                 Yes              Yes  ...   \n2                 Yes               No  ...   \n3                  No               No  ...   \n4                  No               No  ...   \n..                ...              ...  ...   \n222               Yes              Yes  ...   \n223                No               No  ...   \n224                No               No  ...   \n225                No               No  ...   \n226                No               No  ...   \n\n    In the last 24 hours, have you done any of the following? [You were at Home.]  \\\n0                                                  YES                              \n1                                                  YES                              \n2                                                  YES                              \n3                                                  YES                              \n4                                                   NO                              \n..                                                 ...                              \n222                                                 NO                              \n223                                                YES                              \n224                                                YES                              \n225                                                 NO                              \n226                                                YES                              \n\n    In the last 24 hours, have you done any of the following? [None of the above]  \\\n0                                                   NO                              \n1                                                   NO                              \n2                                                   NO                              \n3                                                   NO                              \n4                                                   NO                              \n..                                                 ...                              \n222                                                 NO                              \n223                                                 NO                              \n224                                                 NO                              \n225                                                YES                              \n226                                                YES                              \n\n    In last 24 Hours When Ever you stepped outside your personal premises, How often have you used mask/face cover.  \\\n0                                            Sometimes                                                                \n1                                                Often                                                                \n2                                               Always                                                                \n3                                               Always                                                                \n4                                               Always                                                                \n..                                                 ...                                                                \n222                                             Always                                                                \n223                                             Always                                                                \n224                                             Always                                                                \n225                                             Always                                                                \n226                                             Always                                                                \n\n    How often are you intentionally avoiding contact with other people?  \\\n0                                     None of the time                    \n1                                     None of the time                    \n2                                     Most of the time                    \n3                                         All the time                    \n4                                     Some of the time                    \n..                                                 ...                    \n222                                       All the time                    \n223                                   Some of the time                    \n224                                   Most of the time                    \n225                                           Option 2                    \n226                                   Most of the time                    \n\n     GENDER DO YOU SMOKE ? ALCHOHOL CONSUMPTION  \\\n0      Male             No             SOCIALLY   \n1      Male             No             SOCIALLY   \n2      Male             No             SOCIALLY   \n3      Male             No                NEVER   \n4      Male             No                NEVER   \n..      ...            ...                  ...   \n222  Female             No                NEVER   \n223    Male             No                NEVER   \n224    Male             No                NEVER   \n225    Male             No                NEVER   \n226    Male             No                NEVER   \n\n    Do you access to Sanitizer/Hand wash at workplace  \\\n0                                                  No   \n1                                                 Yes   \n2                                                 Yes   \n3                                                  No   \n4                                                 Yes   \n..                                                ...   \n222                                               Yes   \n223                                               Yes   \n224                                             Maybe   \n225                                             Maybe   \n226                                               Yes   \n\n    Do you access to Sanitizer/Hand wash at Home AGE BAND  \n0                                            Yes    26-32  \n1                                            Yes    26-32  \n2                                            Yes    41-45  \n3                                             No    18-25  \n4                                            Yes    18-25  \n..                                           ...      ...  \n222                                          Yes    46-55  \n223                                          Yes    18-25  \n224                                          Yes    18-25  \n225                                        Maybe    18-25  \n226                                          Yes    18-25  \n\n[227 rows x 46 columns]",
      "text/html": "<div>\n<style scoped>\n    .dataframe tbody tr th:only-of-type {\n        vertical-align: middle;\n    }\n\n    .dataframe tbody tr th {\n        vertical-align: top;\n    }\n\n    .dataframe thead th {\n        text-align: right;\n    }\n</style>\n<table border=\"1\" class=\"dataframe\">\n  <thead>\n    <tr style=\"text-align: right;\">\n      <th></th>\n      <th>Timestamp</th>\n      <th>Country</th>\n      <th>STATE</th>\n      <th>CITY</th>\n      <th>Are you above 18 Years of Age.</th>\n      <th>EYE PAIN</th>\n      <th>CHEST PAIN</th>\n      <th>SOAR THROAT</th>\n      <th>STUFFY/RUNNY NOSE</th>\n      <th>WEAKNESS FATIGUE</th>\n      <th>...</th>\n      <th>In the last 24 hours, have you done any of the following? [You were at Home.]</th>\n      <th>In the last 24 hours, have you done any of the following? [None of the above]</th>\n      <th>In last 24 Hours When Ever you stepped outside your personal premises, How often have you used mask/face cover.</th>\n      <th>How often are you intentionally avoiding contact with other people?</th>\n      <th>GENDER</th>\n      <th>DO YOU SMOKE ?</th>\n      <th>ALCHOHOL CONSUMPTION</th>\n      <th>Do you access to Sanitizer/Hand wash at workplace</th>\n      <th>Do you access to Sanitizer/Hand wash at Home</th>\n      <th>AGE BAND</th>\n    </tr>\n  </thead>\n  <tbody>\n    <tr>\n      <th>0</th>\n      <td>4/6/2021 0:48:07</td>\n      <td>INDIA</td>\n      <td>TELANGANA</td>\n      <td>HYDERABAD</td>\n      <td>Yes</td>\n      <td>YES</td>\n      <td>Yes</td>\n      <td>No</td>\n      <td>No</td>\n      <td>No</td>\n      <td>...</td>\n      <td>YES</td>\n      <td>NO</td>\n      <td>Sometimes</td>\n      <td>None of the time</td>\n      <td>Male</td>\n      <td>No</td>\n      <td>SOCIALLY</td>\n      <td>No</td>\n      <td>Yes</td>\n      <td>26-32</td>\n    </tr>\n    <tr>\n      <th>1</th>\n      <td>4/6/2021 15:31:21</td>\n      <td>INDIA</td>\n      <td>TELANGANA</td>\n      <td>HYDERABAD</td>\n      <td>Yes</td>\n      <td>YES</td>\n      <td>Yes</td>\n      <td>No</td>\n      <td>Yes</td>\n      <td>Yes</td>\n      <td>...</td>\n      <td>YES</td>\n      <td>NO</td>\n      <td>Often</td>\n      <td>None of the time</td>\n      <td>Male</td>\n      <td>No</td>\n      <td>SOCIALLY</td>\n      <td>Yes</td>\n      <td>Yes</td>\n      <td>26-32</td>\n    </tr>\n    <tr>\n      <th>2</th>\n      <td>4/19/2021 12:06:03</td>\n      <td>INDIA</td>\n      <td>TELANGANA</td>\n      <td>HYDERABAD</td>\n      <td>Yes</td>\n      <td>NO</td>\n      <td>No</td>\n      <td>No</td>\n      <td>Yes</td>\n      <td>No</td>\n      <td>...</td>\n      <td>YES</td>\n      <td>NO</td>\n      <td>Always</td>\n      <td>Most of the time</td>\n      <td>Male</td>\n      <td>No</td>\n      <td>SOCIALLY</td>\n      <td>Yes</td>\n      <td>Yes</td>\n      <td>41-45</td>\n    </tr>\n    <tr>\n      <th>3</th>\n      <td>4/19/2021 12:29:41</td>\n      <td>INDIA</td>\n      <td>TELANGANA</td>\n      <td>HYDERABAD</td>\n      <td>Yes</td>\n      <td>NO</td>\n      <td>No</td>\n      <td>No</td>\n      <td>No</td>\n      <td>No</td>\n      <td>...</td>\n      <td>YES</td>\n      <td>NO</td>\n      <td>Always</td>\n      <td>All the time</td>\n      <td>Male</td>\n      <td>No</td>\n      <td>NEVER</td>\n      <td>No</td>\n      <td>No</td>\n      <td>18-25</td>\n    </tr>\n    <tr>\n      <th>4</th>\n      <td>4/19/2021 12:34:24</td>\n      <td>INDIA</td>\n      <td>TELANGANA</td>\n      <td>OTHERS</td>\n      <td>Yes</td>\n      <td>NO</td>\n      <td>No</td>\n      <td>No</td>\n      <td>No</td>\n      <td>No</td>\n      <td>...</td>\n      <td>NO</td>\n      <td>NO</td>\n      <td>Always</td>\n      <td>Some of the time</td>\n      <td>Male</td>\n      <td>No</td>\n      <td>NEVER</td>\n      <td>Yes</td>\n      <td>Yes</td>\n      <td>18-25</td>\n    </tr>\n    <tr>\n      <th>...</th>\n      <td>...</td>\n      <td>...</td>\n      <td>...</td>\n      <td>...</td>\n      <td>...</td>\n      <td>...</td>\n      <td>...</td>\n      <td>...</td>\n      <td>...</td>\n      <td>...</td>\n      <td>...</td>\n      <td>...</td>\n      <td>...</td>\n      <td>...</td>\n      <td>...</td>\n      <td>...</td>\n      <td>...</td>\n      <td>...</td>\n      <td>...</td>\n      <td>...</td>\n      <td>...</td>\n    </tr>\n    <tr>\n      <th>222</th>\n      <td>4/21/2021 13:33:25</td>\n      <td>INDIA</td>\n      <td>TELANGANA</td>\n      <td>HYDERABAD</td>\n      <td>Yes</td>\n      <td>NO</td>\n      <td>No</td>\n      <td>No</td>\n      <td>Yes</td>\n      <td>Yes</td>\n      <td>...</td>\n      <td>NO</td>\n      <td>NO</td>\n      <td>Always</td>\n      <td>All the time</td>\n      <td>Female</td>\n      <td>No</td>\n      <td>NEVER</td>\n      <td>Yes</td>\n      <td>Yes</td>\n      <td>46-55</td>\n    </tr>\n    <tr>\n      <th>223</th>\n      <td>4/21/2021 14:47:59</td>\n      <td>INDIA</td>\n      <td>TELANGANA</td>\n      <td>OTHERS</td>\n      <td>Yes</td>\n      <td>NO</td>\n      <td>No</td>\n      <td>No</td>\n      <td>No</td>\n      <td>No</td>\n      <td>...</td>\n      <td>YES</td>\n      <td>NO</td>\n      <td>Always</td>\n      <td>Some of the time</td>\n      <td>Male</td>\n      <td>No</td>\n      <td>NEVER</td>\n      <td>Yes</td>\n      <td>Yes</td>\n      <td>18-25</td>\n    </tr>\n    <tr>\n      <th>224</th>\n      <td>4/22/2021 10:13:11</td>\n      <td>INDIA</td>\n      <td>TELANGANA</td>\n      <td>HYDERABAD</td>\n      <td>Yes</td>\n      <td>NO</td>\n      <td>No</td>\n      <td>No</td>\n      <td>No</td>\n      <td>No</td>\n      <td>...</td>\n      <td>YES</td>\n      <td>NO</td>\n      <td>Always</td>\n      <td>Most of the time</td>\n      <td>Male</td>\n      <td>No</td>\n      <td>NEVER</td>\n      <td>Maybe</td>\n      <td>Yes</td>\n      <td>18-25</td>\n    </tr>\n    <tr>\n      <th>225</th>\n      <td>4/22/2021 11:04:47</td>\n      <td>INDIA</td>\n      <td>TELANGANA</td>\n      <td>HYDERABAD</td>\n      <td>Yes</td>\n      <td>NO</td>\n      <td>No</td>\n      <td>No</td>\n      <td>No</td>\n      <td>No</td>\n      <td>...</td>\n      <td>NO</td>\n      <td>YES</td>\n      <td>Always</td>\n      <td>Option 2</td>\n      <td>Male</td>\n      <td>No</td>\n      <td>NEVER</td>\n      <td>Maybe</td>\n      <td>Maybe</td>\n      <td>18-25</td>\n    </tr>\n    <tr>\n      <th>226</th>\n      <td>4/22/2021 11:10:36</td>\n      <td>INDIA</td>\n      <td>TELANGANA</td>\n      <td>HYDERABAD</td>\n      <td>Yes</td>\n      <td>NO</td>\n      <td>No</td>\n      <td>No</td>\n      <td>No</td>\n      <td>No</td>\n      <td>...</td>\n      <td>YES</td>\n      <td>YES</td>\n      <td>Always</td>\n      <td>Most of the time</td>\n      <td>Male</td>\n      <td>No</td>\n      <td>NEVER</td>\n      <td>Yes</td>\n      <td>Yes</td>\n      <td>18-25</td>\n    </tr>\n  </tbody>\n</table>\n<p>227 rows × 46 columns</p>\n</div>"
     },
     "execution_count": 29,
     "metadata": {},
     "output_type": "execute_result"
    }
   ],
   "source": [
    "original_data = pd.read_csv('data.csv')\n",
    "original_data"
   ],
   "metadata": {
    "collapsed": false,
    "pycharm": {
     "name": "#%%\n"
    }
   }
  },
  {
   "cell_type": "code",
   "execution_count": 15,
   "outputs": [],
   "source": [
    "data = original_data.copy() #data will be sanitized"
   ],
   "metadata": {
    "collapsed": false,
    "pycharm": {
     "name": "#%%\n"
    }
   }
  },
  {
   "cell_type": "code",
   "execution_count": 16,
   "outputs": [
    {
     "data": {
      "text/plain": "Yes, Definitely       96\nYes, Probably         79\nNo, Probably Not      34\nNo, Definitely Not    18\nName: If a vaccine to prevent COVID-19 was offered to you today, would you choose to be vaccinated?, dtype: int64"
     },
     "execution_count": 16,
     "metadata": {},
     "output_type": "execute_result"
    }
   ],
   "source": [
    "vac = \"If a vaccine to prevent COVID-19 was offered to you today, would you choose to be vaccinated?\"\n",
    "data[vac].value_counts()"
   ],
   "metadata": {
    "collapsed": false,
    "pycharm": {
     "name": "#%%\n"
    }
   }
  },
  {
   "cell_type": "code",
   "execution_count": 17,
   "outputs": [
    {
     "data": {
      "text/plain": "yes    175\nno      52\nName: If a vaccine to prevent COVID-19 was offered to you today, would you choose to be vaccinated?, dtype: int64"
     },
     "execution_count": 17,
     "metadata": {},
     "output_type": "execute_result"
    }
   ],
   "source": [
    "data[vac] = data[vac].apply(lambda x : 'yes' if 'yes' in x.lower() else 'no')\n",
    "data[vac].value_counts()"
   ],
   "metadata": {
    "collapsed": false,
    "pycharm": {
     "name": "#%%\n"
    }
   }
  },
  {
   "cell_type": "code",
   "execution_count": 21,
   "outputs": [
    {
     "name": "stdout",
     "output_type": "stream",
     "text": [
      "['Would you be more likely or less likely to have a COVID-19 vaccination if it was recommended to you by each of the following: [WHO]', 'Would you be more likely or less likely to have a COVID-19 vaccination if it was recommended to you by each of the following: [Politicians]', 'Would you be more likely or less likely to have a COVID-19 vaccination if it was recommended to you by each of the following: [Government Health Officials]', 'Would you be more likely or less likely to have a COVID-19 vaccination if it was recommended to you by each of the following: [Doctors & Healthcare Staff ]', 'Would you be more likely or less likely to have a COVID-19 vaccination if it was recommended to you by each of the following: [Friends and Fa,ily]']\n"
     ]
    }
   ],
   "source": [
    "rec = 'recommend'\n",
    "to_del = []\n",
    "for col in data:\n",
    "    if 'recommend' in col:\n",
    "        to_del.append(col)\n",
    "\n",
    "print(to_del)"
   ],
   "metadata": {
    "collapsed": false,
    "pycharm": {
     "name": "#%%\n"
    }
   }
  },
  {
   "cell_type": "code",
   "execution_count": 22,
   "outputs": [],
   "source": [
    "for col in to_del:\n",
    "    del data[col]"
   ],
   "metadata": {
    "collapsed": false,
    "pycharm": {
     "name": "#%%\n"
    }
   }
  },
  {
   "cell_type": "code",
   "execution_count": 24,
   "outputs": [],
   "source": [
    "for col in data:\n",
    "    if 'recommend' in col:\n",
    "        print(col)"
   ],
   "metadata": {
    "collapsed": false,
    "pycharm": {
     "name": "#%%\n"
    }
   }
  },
  {
   "cell_type": "code",
   "execution_count": 31,
   "outputs": [
    {
     "data": {
      "text/plain": "              Timestamp       CITY Are you above 18 Years of Age.  EYE PAIN  \\\n0      4/6/2021 0:48:07  HYDERABAD                             Yes      YES   \n1     4/6/2021 15:31:21  HYDERABAD                             Yes      YES   \n2    4/19/2021 12:06:03  HYDERABAD                             Yes       NO   \n3    4/19/2021 12:29:41  HYDERABAD                             Yes       NO   \n4    4/19/2021 12:34:24     OTHERS                             Yes       NO   \n..                  ...        ...                             ...      ...   \n222  4/21/2021 13:33:25  HYDERABAD                             Yes       NO   \n223  4/21/2021 14:47:59     OTHERS                             Yes       NO   \n224  4/22/2021 10:13:11  HYDERABAD                             Yes       NO   \n225  4/22/2021 11:04:47  HYDERABAD                             Yes       NO   \n226  4/22/2021 11:10:36  HYDERABAD                             Yes       NO   \n\n    CHEST PAIN SOAR THROAT STUFFY/RUNNY NOSE WEAKNESS FATIGUE  \\\n0          Yes          No                No               No   \n1          Yes          No               Yes              Yes   \n2           No          No               Yes               No   \n3           No          No                No               No   \n4           No          No                No               No   \n..         ...         ...               ...              ...   \n222         No          No               Yes              Yes   \n223         No          No                No               No   \n224         No          No                No               No   \n225         No          No                No               No   \n226         No          No                No               No   \n\n    Aches/ Muscle Pain Headache  ...  \\\n0                   No       No  ...   \n1                   No       No  ...   \n2                   No       No  ...   \n3                   No       No  ...   \n4                   No       No  ...   \n..                 ...      ...  ...   \n222                 No      Yes  ...   \n223                 No       No  ...   \n224                 No       No  ...   \n225                 No       No  ...   \n226                 No       No  ...   \n\n    In the last 24 hours, have you done any of the following? [You were at Home.]  \\\n0                                                  YES                              \n1                                                  YES                              \n2                                                  YES                              \n3                                                  YES                              \n4                                                   NO                              \n..                                                 ...                              \n222                                                 NO                              \n223                                                YES                              \n224                                                YES                              \n225                                                 NO                              \n226                                                YES                              \n\n    In the last 24 hours, have you done any of the following? [None of the above]  \\\n0                                                   NO                              \n1                                                   NO                              \n2                                                   NO                              \n3                                                   NO                              \n4                                                   NO                              \n..                                                 ...                              \n222                                                 NO                              \n223                                                 NO                              \n224                                                 NO                              \n225                                                YES                              \n226                                                YES                              \n\n    In last 24 Hours When Ever you stepped outside your personal premises, How often have you used mask/face cover.  \\\n0                                            Sometimes                                                                \n1                                                Often                                                                \n2                                               Always                                                                \n3                                               Always                                                                \n4                                               Always                                                                \n..                                                 ...                                                                \n222                                             Always                                                                \n223                                             Always                                                                \n224                                             Always                                                                \n225                                             Always                                                                \n226                                             Always                                                                \n\n    How often are you intentionally avoiding contact with other people?  \\\n0                                     None of the time                    \n1                                     None of the time                    \n2                                     Most of the time                    \n3                                         All the time                    \n4                                     Some of the time                    \n..                                                 ...                    \n222                                       All the time                    \n223                                   Some of the time                    \n224                                   Most of the time                    \n225                                           Option 2                    \n226                                   Most of the time                    \n\n     GENDER DO YOU SMOKE ? ALCHOHOL CONSUMPTION  \\\n0      Male             No             SOCIALLY   \n1      Male             No             SOCIALLY   \n2      Male             No             SOCIALLY   \n3      Male             No                NEVER   \n4      Male             No                NEVER   \n..      ...            ...                  ...   \n222  Female             No                NEVER   \n223    Male             No                NEVER   \n224    Male             No                NEVER   \n225    Male             No                NEVER   \n226    Male             No                NEVER   \n\n    Do you access to Sanitizer/Hand wash at workplace  \\\n0                                                  No   \n1                                                 Yes   \n2                                                 Yes   \n3                                                  No   \n4                                                 Yes   \n..                                                ...   \n222                                               Yes   \n223                                               Yes   \n224                                             Maybe   \n225                                             Maybe   \n226                                               Yes   \n\n    Do you access to Sanitizer/Hand wash at Home AGE BAND  \n0                                            Yes    26-32  \n1                                            Yes    26-32  \n2                                            Yes    41-45  \n3                                             No    18-25  \n4                                            Yes    18-25  \n..                                           ...      ...  \n222                                          Yes    46-55  \n223                                          Yes    18-25  \n224                                          Yes    18-25  \n225                                        Maybe    18-25  \n226                                          Yes    18-25  \n\n[227 rows x 39 columns]",
      "text/html": "<div>\n<style scoped>\n    .dataframe tbody tr th:only-of-type {\n        vertical-align: middle;\n    }\n\n    .dataframe tbody tr th {\n        vertical-align: top;\n    }\n\n    .dataframe thead th {\n        text-align: right;\n    }\n</style>\n<table border=\"1\" class=\"dataframe\">\n  <thead>\n    <tr style=\"text-align: right;\">\n      <th></th>\n      <th>Timestamp</th>\n      <th>CITY</th>\n      <th>Are you above 18 Years of Age.</th>\n      <th>EYE PAIN</th>\n      <th>CHEST PAIN</th>\n      <th>SOAR THROAT</th>\n      <th>STUFFY/RUNNY NOSE</th>\n      <th>WEAKNESS FATIGUE</th>\n      <th>Aches/ Muscle Pain</th>\n      <th>Headache</th>\n      <th>...</th>\n      <th>In the last 24 hours, have you done any of the following? [You were at Home.]</th>\n      <th>In the last 24 hours, have you done any of the following? [None of the above]</th>\n      <th>In last 24 Hours When Ever you stepped outside your personal premises, How often have you used mask/face cover.</th>\n      <th>How often are you intentionally avoiding contact with other people?</th>\n      <th>GENDER</th>\n      <th>DO YOU SMOKE ?</th>\n      <th>ALCHOHOL CONSUMPTION</th>\n      <th>Do you access to Sanitizer/Hand wash at workplace</th>\n      <th>Do you access to Sanitizer/Hand wash at Home</th>\n      <th>AGE BAND</th>\n    </tr>\n  </thead>\n  <tbody>\n    <tr>\n      <th>0</th>\n      <td>4/6/2021 0:48:07</td>\n      <td>HYDERABAD</td>\n      <td>Yes</td>\n      <td>YES</td>\n      <td>Yes</td>\n      <td>No</td>\n      <td>No</td>\n      <td>No</td>\n      <td>No</td>\n      <td>No</td>\n      <td>...</td>\n      <td>YES</td>\n      <td>NO</td>\n      <td>Sometimes</td>\n      <td>None of the time</td>\n      <td>Male</td>\n      <td>No</td>\n      <td>SOCIALLY</td>\n      <td>No</td>\n      <td>Yes</td>\n      <td>26-32</td>\n    </tr>\n    <tr>\n      <th>1</th>\n      <td>4/6/2021 15:31:21</td>\n      <td>HYDERABAD</td>\n      <td>Yes</td>\n      <td>YES</td>\n      <td>Yes</td>\n      <td>No</td>\n      <td>Yes</td>\n      <td>Yes</td>\n      <td>No</td>\n      <td>No</td>\n      <td>...</td>\n      <td>YES</td>\n      <td>NO</td>\n      <td>Often</td>\n      <td>None of the time</td>\n      <td>Male</td>\n      <td>No</td>\n      <td>SOCIALLY</td>\n      <td>Yes</td>\n      <td>Yes</td>\n      <td>26-32</td>\n    </tr>\n    <tr>\n      <th>2</th>\n      <td>4/19/2021 12:06:03</td>\n      <td>HYDERABAD</td>\n      <td>Yes</td>\n      <td>NO</td>\n      <td>No</td>\n      <td>No</td>\n      <td>Yes</td>\n      <td>No</td>\n      <td>No</td>\n      <td>No</td>\n      <td>...</td>\n      <td>YES</td>\n      <td>NO</td>\n      <td>Always</td>\n      <td>Most of the time</td>\n      <td>Male</td>\n      <td>No</td>\n      <td>SOCIALLY</td>\n      <td>Yes</td>\n      <td>Yes</td>\n      <td>41-45</td>\n    </tr>\n    <tr>\n      <th>3</th>\n      <td>4/19/2021 12:29:41</td>\n      <td>HYDERABAD</td>\n      <td>Yes</td>\n      <td>NO</td>\n      <td>No</td>\n      <td>No</td>\n      <td>No</td>\n      <td>No</td>\n      <td>No</td>\n      <td>No</td>\n      <td>...</td>\n      <td>YES</td>\n      <td>NO</td>\n      <td>Always</td>\n      <td>All the time</td>\n      <td>Male</td>\n      <td>No</td>\n      <td>NEVER</td>\n      <td>No</td>\n      <td>No</td>\n      <td>18-25</td>\n    </tr>\n    <tr>\n      <th>4</th>\n      <td>4/19/2021 12:34:24</td>\n      <td>OTHERS</td>\n      <td>Yes</td>\n      <td>NO</td>\n      <td>No</td>\n      <td>No</td>\n      <td>No</td>\n      <td>No</td>\n      <td>No</td>\n      <td>No</td>\n      <td>...</td>\n      <td>NO</td>\n      <td>NO</td>\n      <td>Always</td>\n      <td>Some of the time</td>\n      <td>Male</td>\n      <td>No</td>\n      <td>NEVER</td>\n      <td>Yes</td>\n      <td>Yes</td>\n      <td>18-25</td>\n    </tr>\n    <tr>\n      <th>...</th>\n      <td>...</td>\n      <td>...</td>\n      <td>...</td>\n      <td>...</td>\n      <td>...</td>\n      <td>...</td>\n      <td>...</td>\n      <td>...</td>\n      <td>...</td>\n      <td>...</td>\n      <td>...</td>\n      <td>...</td>\n      <td>...</td>\n      <td>...</td>\n      <td>...</td>\n      <td>...</td>\n      <td>...</td>\n      <td>...</td>\n      <td>...</td>\n      <td>...</td>\n      <td>...</td>\n    </tr>\n    <tr>\n      <th>222</th>\n      <td>4/21/2021 13:33:25</td>\n      <td>HYDERABAD</td>\n      <td>Yes</td>\n      <td>NO</td>\n      <td>No</td>\n      <td>No</td>\n      <td>Yes</td>\n      <td>Yes</td>\n      <td>No</td>\n      <td>Yes</td>\n      <td>...</td>\n      <td>NO</td>\n      <td>NO</td>\n      <td>Always</td>\n      <td>All the time</td>\n      <td>Female</td>\n      <td>No</td>\n      <td>NEVER</td>\n      <td>Yes</td>\n      <td>Yes</td>\n      <td>46-55</td>\n    </tr>\n    <tr>\n      <th>223</th>\n      <td>4/21/2021 14:47:59</td>\n      <td>OTHERS</td>\n      <td>Yes</td>\n      <td>NO</td>\n      <td>No</td>\n      <td>No</td>\n      <td>No</td>\n      <td>No</td>\n      <td>No</td>\n      <td>No</td>\n      <td>...</td>\n      <td>YES</td>\n      <td>NO</td>\n      <td>Always</td>\n      <td>Some of the time</td>\n      <td>Male</td>\n      <td>No</td>\n      <td>NEVER</td>\n      <td>Yes</td>\n      <td>Yes</td>\n      <td>18-25</td>\n    </tr>\n    <tr>\n      <th>224</th>\n      <td>4/22/2021 10:13:11</td>\n      <td>HYDERABAD</td>\n      <td>Yes</td>\n      <td>NO</td>\n      <td>No</td>\n      <td>No</td>\n      <td>No</td>\n      <td>No</td>\n      <td>No</td>\n      <td>No</td>\n      <td>...</td>\n      <td>YES</td>\n      <td>NO</td>\n      <td>Always</td>\n      <td>Most of the time</td>\n      <td>Male</td>\n      <td>No</td>\n      <td>NEVER</td>\n      <td>Maybe</td>\n      <td>Yes</td>\n      <td>18-25</td>\n    </tr>\n    <tr>\n      <th>225</th>\n      <td>4/22/2021 11:04:47</td>\n      <td>HYDERABAD</td>\n      <td>Yes</td>\n      <td>NO</td>\n      <td>No</td>\n      <td>No</td>\n      <td>No</td>\n      <td>No</td>\n      <td>No</td>\n      <td>No</td>\n      <td>...</td>\n      <td>NO</td>\n      <td>YES</td>\n      <td>Always</td>\n      <td>Option 2</td>\n      <td>Male</td>\n      <td>No</td>\n      <td>NEVER</td>\n      <td>Maybe</td>\n      <td>Maybe</td>\n      <td>18-25</td>\n    </tr>\n    <tr>\n      <th>226</th>\n      <td>4/22/2021 11:10:36</td>\n      <td>HYDERABAD</td>\n      <td>Yes</td>\n      <td>NO</td>\n      <td>No</td>\n      <td>No</td>\n      <td>No</td>\n      <td>No</td>\n      <td>No</td>\n      <td>No</td>\n      <td>...</td>\n      <td>YES</td>\n      <td>YES</td>\n      <td>Always</td>\n      <td>Most of the time</td>\n      <td>Male</td>\n      <td>No</td>\n      <td>NEVER</td>\n      <td>Yes</td>\n      <td>Yes</td>\n      <td>18-25</td>\n    </tr>\n  </tbody>\n</table>\n<p>227 rows × 39 columns</p>\n</div>"
     },
     "execution_count": 31,
     "metadata": {},
     "output_type": "execute_result"
    }
   ],
   "source": [
    "for col in data:\n",
    "    if len(data[col].unique()) == 1:\n",
    "        data.drop(col,inplace=True,axis=1)\n",
    "data"
   ],
   "metadata": {
    "collapsed": false,
    "pycharm": {
     "name": "#%%\n"
    }
   }
  }
 ],
 "metadata": {
  "kernelspec": {
   "display_name": "Python 3",
   "language": "python",
   "name": "python3"
  },
  "language_info": {
   "codemirror_mode": {
    "name": "ipython",
    "version": 2
   },
   "file_extension": ".py",
   "mimetype": "text/x-python",
   "name": "python",
   "nbconvert_exporter": "python",
   "pygments_lexer": "ipython2",
   "version": "2.7.6"
  }
 },
 "nbformat": 4,
 "nbformat_minor": 0
}